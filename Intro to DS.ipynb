{
 "cells": [
  {
   "cell_type": "code",
   "execution_count": 2,
   "id": "460ba333",
   "metadata": {},
   "outputs": [
    {
     "name": "stdout",
     "output_type": "stream",
     "text": [
      "hello world\n"
     ]
    }
   ],
   "source": [
    "print(\"hello world\")"
   ]
  },
  {
   "cell_type": "code",
   "execution_count": 31,
   "id": "872b1a91",
   "metadata": {},
   "outputs": [
    {
     "name": "stdout",
     "output_type": "stream",
     "text": [
      "old list:  ['Bojack', 'Diane', 2019, 'Mr. Peanutbutter', 90, 'Horsin Around', True, 'Todd', 2022, 'BlackPink']\n",
      "new list:  ['Bojack', 'Diane', 2019, 'Mr. Peanutbutter', 90, 'Horsin Around', True, 'Todd']\n"
     ]
    }
   ],
   "source": [
    "myList = [\"Bojack\", \"Diane\", 2019, \"Mr. Peanutbutter\", 90, \"Horsin Around\", True, \"Todd\", 2022]\n",
    "myList.append(\"BlackPink\")\n",
    "myList[-1]\n",
    "copyData = myList.copy()\n",
    "myList.remove(2022)\n",
    "myList.pop(-1)\n",
    "print(\"old list: \", copyData)\n",
    "print(\"new list: \", myList)"
   ]
  },
  {
   "cell_type": "code",
   "execution_count": 41,
   "id": "89b3d17b",
   "metadata": {},
   "outputs": [
    {
     "name": "stdout",
     "output_type": "stream",
     "text": [
      "{'Make': 'Toyota', 'Model': 'Land Cruiser', 'Year': 2022}\n",
      "{'Make': 'Toyota', 'Model': 'Land Cruiser', 'Year': 2023}\n",
      "dict_values(['Toyota', 'Land Cruiser', 2023, 'Black'])\n"
     ]
    }
   ],
   "source": [
    "cars = {\n",
    "    \"Make\":\"Toyota\",\n",
    "    \"Model\":\"Land Cruiser\",\n",
    "    \"Year\": 2022\n",
    "}\n",
    "print(cars)\n",
    "\n",
    "#to change value inside an index\n",
    "\n",
    "cars[\"Year\"] = 2023\n",
    "print(cars)\n",
    "\n",
    "#to add new data\n",
    "\n",
    "cars[\"Color\"]=\"Black\"\n",
    "print(cars.values())"
   ]
  },
  {
   "cell_type": "code",
   "execution_count": null,
   "id": "d1749a17",
   "metadata": {},
   "outputs": [],
   "source": [
    "uniform = {\n",
    "    \"Top\":\"Blouse\"\n",
    "    \"Bottom\":\"Skirt\"\n",
    "    \"Shoes\":\"Sneakers\"\n",
    "    \"Accessories\":\"Belt\"\n",
    "    \"Device\": \"Laptop\"\n",
    "}\n",
    "\n",
    "#change value in the index\n",
    "uniform[\"Accessories\"]=\"Rings\"\n",
    "\n",
    "#add a new index and value\n",
    "uniform[\"Bag\"]=\"Totebag\"\n"
   ]
  },
  {
   "cell_type": "code",
   "execution_count": 40,
   "id": "2d88c206",
   "metadata": {},
   "outputs": [
    {
     "name": "stdout",
     "output_type": "stream",
     "text": [
      "10\n"
     ]
    }
   ],
   "source": [
    "def count_bits (x):\n",
    "    num_bits = 0\n",
    "    while x:\n",
    "        num_bits += x & 1\n",
    "        x >>= 1\n",
    "    return num_bits\n",
    "\n",
    "x = 11119\n",
    "print(count_bits(x))"
   ]
  },
  {
   "cell_type": "markdown",
   "id": "8bf9933e",
   "metadata": {},
   "source": [
    "* #Booleans"
   ]
  },
  {
   "cell_type": "code",
   "execution_count": 1,
   "id": "55608020",
   "metadata": {},
   "outputs": [
    {
     "name": "stdout",
     "output_type": "stream",
     "text": [
      "False\n"
     ]
    }
   ],
   "source": [
    "print(True == False)"
   ]
  },
  {
   "cell_type": "code",
   "execution_count": 6,
   "id": "8521b20e",
   "metadata": {},
   "outputs": [
    {
     "name": "stdout",
     "output_type": "stream",
     "text": [
      "True\n"
     ]
    }
   ],
   "source": [
    "print((2 >3)|(12<56)) #or"
   ]
  },
  {
   "cell_type": "code",
   "execution_count": 5,
   "id": "4d095232",
   "metadata": {},
   "outputs": [
    {
     "data": {
      "text/plain": [
       "False"
      ]
     },
     "execution_count": 5,
     "metadata": {},
     "output_type": "execute_result"
    }
   ],
   "source": [
    "((2 >3)&(12<56)) #and"
   ]
  },
  {
   "cell_type": "markdown",
   "id": "f4954184",
   "metadata": {},
   "source": [
    "* Tuples are unmutable object"
   ]
  },
  {
   "cell_type": "code",
   "execution_count": 13,
   "id": "590b833f",
   "metadata": {},
   "outputs": [
    {
     "data": {
      "text/plain": [
       "1"
      ]
     },
     "execution_count": 13,
     "metadata": {},
     "output_type": "execute_result"
    }
   ],
   "source": [
    "twoples = (1,2,3,4,5)\n",
    "a,b,c,d,e = twoples\n",
    "t[3] = 100 #it shows an error because elements in tuples cannot be changed\n"
   ]
  },
  {
   "cell_type": "markdown",
   "id": "f0ad5a72",
   "metadata": {},
   "source": [
    "* Sets: No repeatation "
   ]
  },
  {
   "cell_type": "code",
   "execution_count": 17,
   "id": "8f9e82ec",
   "metadata": {},
   "outputs": [
    {
     "data": {
      "text/plain": [
       "{1, 2, 3, 4, 5, 6}"
      ]
     },
     "execution_count": 17,
     "metadata": {},
     "output_type": "execute_result"
    }
   ],
   "source": [
    "l = [1,1,1,2,3,3,4,5,6,6]\n",
    "s1 = set(l)\n",
    "s1"
   ]
  },
  {
   "cell_type": "markdown",
   "id": "dcdcea77",
   "metadata": {},
   "source": [
    "if, elif, else statements"
   ]
  },
  {
   "cell_type": "code",
   "execution_count": 25,
   "id": "a34b83cd",
   "metadata": {},
   "outputs": [
    {
     "name": "stdout",
     "output_type": "stream",
     "text": [
      "enter a number0\n",
      "enter a nameRam\n",
      "bye\n"
     ]
    }
   ],
   "source": [
    "seq = [0,1,2,3,4,5,6,7,8,9]\n",
    "seq_2 = [\"Johnny\", \"Josh\", \"Jake\", \"Kiszka\"]\n",
    "num = input(\"enter a number\")\n",
    "name = input(\"enter a name\")\n",
    "if num in seq:\n",
    "    print(\"Yes, you!\")\n",
    "else:\n",
    "    print(\"bye\")\n",
    "    \n",
    "    \n",
    "    "
   ]
  },
  {
   "cell_type": "code",
   "execution_count": null,
   "id": "0ed4c9dd",
   "metadata": {},
   "outputs": [],
   "source": []
  }
 ],
 "metadata": {
  "kernelspec": {
   "display_name": "Python 3 (ipykernel)",
   "language": "python",
   "name": "python3"
  },
  "language_info": {
   "codemirror_mode": {
    "name": "ipython",
    "version": 3
   },
   "file_extension": ".py",
   "mimetype": "text/x-python",
   "name": "python",
   "nbconvert_exporter": "python",
   "pygments_lexer": "ipython3",
   "version": "3.10.6"
  }
 },
 "nbformat": 4,
 "nbformat_minor": 5
}
