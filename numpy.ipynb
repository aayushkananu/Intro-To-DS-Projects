{
 "cells": [
  {
   "cell_type": "code",
   "execution_count": 14,
   "id": "ceacf046",
   "metadata": {},
   "outputs": [
    {
     "data": {
      "text/plain": [
       "array([0, 1, 2, 3, 4, 5])"
      ]
     },
     "execution_count": 14,
     "metadata": {},
     "output_type": "execute_result"
    }
   ],
   "source": [
    "import numpy as np\n",
    "mylist = [0,1,2,3,4,5,]\n",
    "myarr = np.array(mylist)\n",
    "type(myarr)\n",
    "myarr"
   ]
  },
  {
   "cell_type": "markdown",
   "id": "5b66da34",
   "metadata": {},
   "source": [
    "* ##Defining a matrix / 2d array"
   ]
  },
  {
   "cell_type": "code",
   "execution_count": 9,
   "id": "27bd8de6",
   "metadata": {},
   "outputs": [
    {
     "data": {
      "text/plain": [
       "array([0, 1, 5])"
      ]
     },
     "execution_count": 9,
     "metadata": {},
     "output_type": "execute_result"
    }
   ],
   "source": [
    "mymatrix = np.array([[0,1,5], [-2, 1,4], [7,8,9]])\n",
    "mymatrix\n",
    "mymatrix[0, :]"
   ]
  },
  {
   "cell_type": "code",
   "execution_count": 11,
   "id": "bcd76852",
   "metadata": {},
   "outputs": [
    {
     "data": {
      "text/plain": [
       "array([5, 4, 9])"
      ]
     },
     "execution_count": 11,
     "metadata": {},
     "output_type": "execute_result"
    }
   ],
   "source": [
    "mymatrix[:, len(mymatrix)-1]"
   ]
  },
  {
   "cell_type": "code",
   "execution_count": 20,
   "id": "4e1c089e",
   "metadata": {},
   "outputs": [
    {
     "data": {
      "text/plain": [
       "array([[5],\n",
       "       [4]])"
      ]
     },
     "execution_count": 20,
     "metadata": {},
     "output_type": "execute_result"
    }
   ],
   "source": [
    "mymatrix[0:2, 2:4]"
   ]
  },
  {
   "cell_type": "markdown",
   "id": "a0cac9be",
   "metadata": {},
   "source": [
    "* #arange\n",
    "* #Return evenly spaced values within a given interval"
   ]
  },
  {
   "cell_type": "code",
   "execution_count": 21,
   "id": "7ebdd815",
   "metadata": {},
   "outputs": [
    {
     "data": {
      "text/plain": [
       "array([0, 1, 2, 3, 4, 5, 6, 7, 8, 9])"
      ]
     },
     "execution_count": 21,
     "metadata": {},
     "output_type": "execute_result"
    }
   ],
   "source": [
    "myarange = np.arange(10)\n",
    "myarange"
   ]
  },
  {
   "cell_type": "code",
   "execution_count": 23,
   "id": "5618ce65",
   "metadata": {},
   "outputs": [
    {
     "data": {
      "text/plain": [
       "array([0, 1, 2, 3, 4, 5, 6, 7, 8, 9])"
      ]
     },
     "execution_count": 23,
     "metadata": {},
     "output_type": "execute_result"
    }
   ],
   "source": [
    "myarangestep = np.arange(0,10,2)\n",
    "myarange"
   ]
  },
  {
   "cell_type": "markdown",
   "id": "9f95ceb2",
   "metadata": {},
   "source": [
    "* zeroes and ones\n",
    "* Generate arryas of zeroes and ones"
   ]
  },
  {
   "cell_type": "code",
   "execution_count": 25,
   "id": "1b2c1fba",
   "metadata": {},
   "outputs": [],
   "source": [
    "z = np.zeros(4)"
   ]
  },
  {
   "cell_type": "code",
   "execution_count": 26,
   "id": "ee4fcee2",
   "metadata": {},
   "outputs": [
    {
     "data": {
      "text/plain": [
       "array([[0., 0., 0.],\n",
       "       [0., 0., 0.],\n",
       "       [0., 0., 0.]])"
      ]
     },
     "execution_count": 26,
     "metadata": {},
     "output_type": "execute_result"
    }
   ],
   "source": [
    "z1 = np.zeros((3,3))\n",
    "z1"
   ]
  },
  {
   "cell_type": "code",
   "execution_count": 28,
   "id": "5e374324",
   "metadata": {},
   "outputs": [
    {
     "data": {
      "text/plain": [
       "array([[1., 1.],\n",
       "       [1., 1.],\n",
       "       [1., 1.]])"
      ]
     },
     "execution_count": 28,
     "metadata": {},
     "output_type": "execute_result"
    }
   ],
   "source": [
    "z1 = np.ones((3,2))\n",
    "z1"
   ]
  },
  {
   "cell_type": "markdown",
   "id": "05e7ce8c",
   "metadata": {},
   "source": [
    "Linspace"
   ]
  },
  {
   "cell_type": "markdown",
   "id": "60ea3582",
   "metadata": {},
   "source": [
    "Return evenly spaced numbers over a specified interval"
   ]
  },
  {
   "cell_type": "code",
   "execution_count": 35,
   "id": "a7e0d62e",
   "metadata": {},
   "outputs": [
    {
     "data": {
      "text/plain": [
       "array([ 1.,  4.,  7., 10., 13., 16., 19., 22., 25.])"
      ]
     },
     "execution_count": 35,
     "metadata": {},
     "output_type": "execute_result"
    }
   ],
   "source": [
    "L = np.linspace(1,25,9)\n",
    "L"
   ]
  },
  {
   "cell_type": "code",
   "execution_count": 39,
   "id": "ff9b9baa",
   "metadata": {},
   "outputs": [
    {
     "data": {
      "text/plain": [
       "array([[ 1.,  4.,  7.],\n",
       "       [10., 13., 16.],\n",
       "       [19., 22., 25.]])"
      ]
     },
     "execution_count": 39,
     "metadata": {},
     "output_type": "execute_result"
    }
   ],
   "source": [
    "L3 = L.reshape(3,3)\n",
    "L3"
   ]
  },
  {
   "cell_type": "markdown",
   "id": "f7cc223d",
   "metadata": {},
   "source": [
    "eye\n",
    "creates an identity matrix"
   ]
  },
  {
   "cell_type": "code",
   "execution_count": 45,
   "id": "334cd7bb",
   "metadata": {},
   "outputs": [
    {
     "data": {
      "text/plain": [
       "array([[1., 0., 0.],\n",
       "       [0., 1., 0.]])"
      ]
     },
     "execution_count": 45,
     "metadata": {},
     "output_type": "execute_result"
    }
   ],
   "source": [
    "I2 = np.eye(2, 3)\n",
    "I2"
   ]
  },
  {
   "cell_type": "code",
   "execution_count": 51,
   "id": "ea6762a2",
   "metadata": {},
   "outputs": [
    {
     "data": {
      "text/plain": [
       "array([[1., 0.],\n",
       "       [0., 1.]])"
      ]
     },
     "execution_count": 51,
     "metadata": {},
     "output_type": "execute_result"
    }
   ],
   "source": [
    "I2[0:2, 0:2]"
   ]
  },
  {
   "cell_type": "markdown",
   "id": "76cfc396",
   "metadata": {},
   "source": [
    "random"
   ]
  },
  {
   "cell_type": "code",
   "execution_count": 52,
   "id": "49b67c39",
   "metadata": {},
   "outputs": [],
   "source": [
    "import random"
   ]
  },
  {
   "cell_type": "markdown",
   "id": "4b313efe",
   "metadata": {},
   "source": [
    "rand - creates an array of the given shape and populate it with random samples from a uniform distribution over [0,1]"
   ]
  },
  {
   "cell_type": "code",
   "execution_count": 55,
   "id": "56a00a65",
   "metadata": {},
   "outputs": [
    {
     "data": {
      "text/plain": [
       "array([[0.31319798, 0.90806878, 0.35509975, 0.21081341],\n",
       "       [0.43288941, 0.35896337, 0.27885148, 0.28819784],\n",
       "       [0.31260426, 0.73201389, 0.29225883, 0.99435179]])"
      ]
     },
     "execution_count": 55,
     "metadata": {},
     "output_type": "execute_result"
    }
   ],
   "source": [
    "arr = np.random.rand(3,4)\n",
    "arr"
   ]
  },
  {
   "cell_type": "code",
   "execution_count": 58,
   "id": "c63aa43b",
   "metadata": {},
   "outputs": [
    {
     "data": {
      "text/plain": [
       "0"
      ]
     },
     "execution_count": 58,
     "metadata": {},
     "output_type": "execute_result"
    }
   ],
   "source": [
    "array1 = np.random.randint(0, 5)\n",
    "array1"
   ]
  },
  {
   "cell_type": "code",
   "execution_count": 59,
   "id": "2569d0fd",
   "metadata": {},
   "outputs": [],
   "source": [
    "from numpy.random import rand\n",
    "arr_simple = rand(3, 4)\n",
    "arr_simple"
   ]
  },
  {
   "cell_type": "code",
   "execution_count": 67,
   "id": "7b347631",
   "metadata": {},
   "outputs": [
    {
     "data": {
      "text/plain": [
       "3"
      ]
     },
     "execution_count": 67,
     "metadata": {},
     "output_type": "execute_result"
    }
   ],
   "source": [
    "from numpy.random import randint\n",
    "arr_simple = randint(3, 10)\n",
    "arr_simple"
   ]
  },
  {
   "cell_type": "markdown",
   "id": "a0d62e74",
   "metadata": {},
   "source": [
    "randn - returns sample/samples from the \"standard normal\" distribution. Unlike rand which is uniform"
   ]
  },
  {
   "cell_type": "code",
   "execution_count": 69,
   "id": "0256fc94",
   "metadata": {},
   "outputs": [
    {
     "data": {
      "text/plain": [
       "array([[-0.26138828,  0.5121374 ],\n",
       "       [-0.12496954,  0.83758597],\n",
       "       [ 0.4051529 ,  1.02460496]])"
      ]
     },
     "execution_count": 69,
     "metadata": {},
     "output_type": "execute_result"
    }
   ],
   "source": [
    "mat = np.random.randn(3,2)\n",
    "mat"
   ]
  },
  {
   "cell_type": "markdown",
   "id": "d7f0e1da",
   "metadata": {},
   "source": [
    "max, min, argmax, argmin\n",
    "These are useful methods for finding max or min values. Or to find their index locations using argmin or argmax"
   ]
  },
  {
   "cell_type": "code",
   "execution_count": 76,
   "id": "823c36f3",
   "metadata": {},
   "outputs": [
    {
     "data": {
      "text/plain": [
       "[0, 1, 2, 3, 4]"
      ]
     },
     "execution_count": 76,
     "metadata": {},
     "output_type": "execute_result"
    }
   ],
   "source": [
    "seq = [i for i in range(5)]\n",
    "seq"
   ]
  },
  {
   "cell_type": "code",
   "execution_count": 77,
   "id": "1cb1b24e",
   "metadata": {},
   "outputs": [
    {
     "data": {
      "text/plain": [
       "25"
      ]
     },
     "execution_count": 77,
     "metadata": {},
     "output_type": "execute_result"
    }
   ],
   "source": [
    "l = lambda x: x**2\n",
    "l(5)"
   ]
  },
  {
   "cell_type": "code",
   "execution_count": 81,
   "id": "b61b2411",
   "metadata": {},
   "outputs": [
    {
     "data": {
      "text/plain": [
       "'aayushkab.2003'"
      ]
     },
     "execution_count": 81,
     "metadata": {},
     "output_type": "execute_result"
    }
   ],
   "source": [
    "l = lambda x:x.split(\"@\")[0]\n",
    "l(\"aayushkab.2003@gmail.com\")"
   ]
  },
  {
   "cell_type": "code",
   "execution_count": null,
   "id": "181c5cd0",
   "metadata": {},
   "outputs": [],
   "source": []
  }
 ],
 "metadata": {
  "kernelspec": {
   "display_name": "Python 3 (ipykernel)",
   "language": "python",
   "name": "python3"
  },
  "language_info": {
   "codemirror_mode": {
    "name": "ipython",
    "version": 3
   },
   "file_extension": ".py",
   "mimetype": "text/x-python",
   "name": "python",
   "nbconvert_exporter": "python",
   "pygments_lexer": "ipython3",
   "version": "3.10.6"
  }
 },
 "nbformat": 4,
 "nbformat_minor": 5
}
