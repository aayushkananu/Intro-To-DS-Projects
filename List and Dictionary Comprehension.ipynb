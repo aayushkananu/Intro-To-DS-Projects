{
 "cells": [
  {
   "cell_type": "code",
   "execution_count": null,
   "id": "f8bf6252",
   "metadata": {},
   "outputs": [],
   "source": []
  },
  {
   "cell_type": "code",
   "execution_count": null,
   "id": "895bcca8",
   "metadata": {},
   "outputs": [],
   "source": [
    "num= []"
   ]
  },
  {
   "cell_type": "code",
   "execution_count": 1,
   "id": "38c3cf8f",
   "metadata": {},
   "outputs": [
    {
     "data": {
      "text/plain": [
       "[[0, 3, 6, 9], [0, 3, 6, 9], [0, 3, 6, 9], [0, 3, 6, 9], [0, 3, 6, 9]]"
      ]
     },
     "execution_count": 1,
     "metadata": {},
     "output_type": "execute_result"
    }
   ],
   "source": [
    "[[num*3 for num in range(4)] for num in range(5)]"
   ]
  },
  {
   "cell_type": "markdown",
   "id": "89bed3e1",
   "metadata": {},
   "source": [
    "## Dictionary comprehension"
   ]
  },
  {
   "cell_type": "code",
   "execution_count": 2,
   "id": "55c028a2",
   "metadata": {},
   "outputs": [
    {
     "data": {
      "text/plain": [
       "{0: 'Moussa', 1: 'Sall', 2: 'George'}"
      ]
     },
     "execution_count": 2,
     "metadata": {},
     "output_type": "execute_result"
    }
   ],
   "source": [
    "name = [\"Moussa\", \"Sall\", \"George\"]\n",
    "dico = {k:v for k,v in enumerate(name)}\n",
    "dico"
   ]
  },
  {
   "cell_type": "code",
   "execution_count": 5,
   "id": "33a31b77",
   "metadata": {},
   "outputs": [
    {
     "data": {
      "text/plain": [
       "{'Moussa': 4, 'Sall': 5.8, 'George': 9}"
      ]
     },
     "execution_count": 5,
     "metadata": {},
     "output_type": "execute_result"
    }
   ],
   "source": [
    "score = [4, 5.8, 9, 2.5]\n",
    "name_score = {k:v for k,v in zip(name, score)}\n",
    "name_score"
   ]
  },
  {
   "cell_type": "code",
   "execution_count": 7,
   "id": "a5ba840a",
   "metadata": {},
   "outputs": [
    {
     "name": "stdout",
     "output_type": "stream",
     "text": [
      "[0, 3, 6, 9]\n"
     ]
    }
   ],
   "source": [
    "name_list = [x for x in range(10) if x%3 ==0]\n",
    "print(name_list)\n"
   ]
  },
  {
   "cell_type": "code",
   "execution_count": 8,
   "id": "a1fc3b36",
   "metadata": {},
   "outputs": [
    {
     "name": "stdout",
     "output_type": "stream",
     "text": [
      "['Even', 'Odd', 'Even', 'Odd', 'Even', 'Odd', 'Even', 'Odd', 'Even', 'Odd']\n"
     ]
    }
   ],
   "source": [
    "obj = [\"Even\" if i%2==0 else \"Odd\" for i in range(10)]\n",
    "print(obj)"
   ]
  },
  {
   "cell_type": "code",
   "execution_count": 13,
   "id": "aa01203f",
   "metadata": {},
   "outputs": [
    {
     "data": {
      "text/plain": [
       "{0: 'Even',\n",
       " 1: 'Odd',\n",
       " 2: 'Even',\n",
       " 3: 'Odd',\n",
       " 4: 'Even',\n",
       " 5: 'Odd',\n",
       " 6: 'Even',\n",
       " 7: 'Odd',\n",
       " 8: 'Even',\n",
       " 9: 'Odd',\n",
       " 10: 'Even'}"
      ]
     },
     "execution_count": 13,
     "metadata": {},
     "output_type": "execute_result"
    }
   ],
   "source": [
    "#odd or even\n",
    "obj = [\"Even\" if i%2==0 else \"Odd\" for i in range(11)]\n",
    "num= {k:v for k,v in enumerate(obj)}\n",
    "num"
   ]
  },
  {
   "cell_type": "code",
   "execution_count": null,
   "id": "0676770e",
   "metadata": {},
   "outputs": [],
   "source": []
  }
 ],
 "metadata": {
  "kernelspec": {
   "display_name": "Python 3 (ipykernel)",
   "language": "python",
   "name": "python3"
  },
  "language_info": {
   "codemirror_mode": {
    "name": "ipython",
    "version": 3
   },
   "file_extension": ".py",
   "mimetype": "text/x-python",
   "name": "python",
   "nbconvert_exporter": "python",
   "pygments_lexer": "ipython3",
   "version": "3.10.6"
  }
 },
 "nbformat": 4,
 "nbformat_minor": 5
}
